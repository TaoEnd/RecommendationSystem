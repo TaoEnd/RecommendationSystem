{
 "cells": [
  {
   "cell_type": "code",
   "execution_count": 1,
   "metadata": {
    "collapsed": true
   },
   "outputs": [],
   "source": [
    "# coding:utf-8"
   ]
  },
  {
   "cell_type": "code",
   "execution_count": 2,
   "metadata": {},
   "outputs": [],
   "source": [
    "import numpy as np\n",
    "import pandas as pd\n",
    "import time\n",
    "import sqlite3"
   ]
  },
  {
   "cell_type": "code",
   "execution_count": 3,
   "metadata": {},
   "outputs": [],
   "source": [
    "data_path = r\"E:\\python\\PythonSpace\\Data\\recommendationsystem\\train_triplets.txt\"\n",
    "dataset = pd.read_csv(filepath_or_buffer=data_path, sep=\"\\t\", header=None,\n",
    "                      names=[\"user\", \"music\", \"play_count\"])"
   ]
  },
  {
   "cell_type": "code",
   "execution_count": 6,
   "metadata": {},
   "outputs": [
    {
     "data": {
      "text/plain": [
       "(48373586, 3)"
      ]
     },
     "execution_count": 6,
     "metadata": {},
     "output_type": "execute_result"
    }
   ],
   "source": [
    "dataset.shape"
   ]
  },
  {
   "cell_type": "code",
   "execution_count": 7,
   "metadata": {},
   "outputs": [
    {
     "name": "stdout",
     "output_type": "stream",
     "text": [
      "<class 'pandas.core.frame.DataFrame'>\nRangeIndex: 48373586 entries, 0 to 48373585\nData columns (total 3 columns):\nuser          object\nmusic         object\nplay_count    int64\ndtypes: int64(1), object(2)\nmemory usage: 1.1+ GB\n"
     ]
    }
   ],
   "source": [
    "dataset.info()"
   ]
  },
  {
   "cell_type": "code",
   "execution_count": 4,
   "metadata": {},
   "outputs": [],
   "source": [
    "user_playcount_path = r\"E:\\python\\PythonSpace\\Data\\recommendationsystem\\user_playcount.csv\"\n",
    "music_playcount_path = r\"E:\\python\\PythonSpace\\Data\\recommendationsystem\\music_playcount.csv\"\n",
    "user_playcount_df = pd.read_csv(filepath_or_buffer=user_playcount_path)\n",
    "music_playcount_df = pd.read_csv(filepath_or_buffer=music_playcount_path)"
   ]
  },
  {
   "cell_type": "code",
   "execution_count": 6,
   "metadata": {},
   "outputs": [
    {
     "name": "stdout",
     "output_type": "stream",
     "text": [
      "(1372083, 2) (384546, 2)\n"
     ]
    }
   ],
   "source": [
    "print(user_playcount_df.shape, music_playcount_df.shape)"
   ]
  },
  {
   "cell_type": "code",
   "execution_count": 16,
   "metadata": {},
   "outputs": [
    {
     "name": "stdout",
     "output_type": "stream",
     "text": [
      "0.7560, 0.7501\n"
     ]
    }
   ],
   "source": [
    "music_play_total_count = sum(music_playcount_df.play_count)\n",
    "user_play_taotal_count = sum(user_playcount_df.play_count)\n",
    "ratio1 = music_playcount_df.head(150000).play_count.sum()/music_play_total_count\n",
    "ratio2 = user_playcount_df.head(350000).play_count.sum()/user_play_taotal_count\n",
    "print(\"%.4f, %.4f\" % (ratio1, ratio2))"
   ]
  },
  {
   "cell_type": "code",
   "execution_count": 5,
   "metadata": {},
   "outputs": [],
   "source": [
    "user_count_subset = user_playcount_df.head(400000)\n",
    "music_count_subset = music_playcount_df.head(200000)\n",
    "user_subset = list(user_count_subset.user)\n",
    "music_subset = list(music_count_subset.music)\n",
    "dataset_sub = dataset[dataset.user.isin(user_subset) and \n",
    "                      dataset.music.isin(music_subset)]\n",
    "dataset_sub_path = r\"E:\\python\\PythonSpace\\Data\\recommendationsystem\\train_triplets_sub.csv\"\n",
    "dataset_sub.to_csv(path_or_buf=dataset_sub_path, index=False)"
   ]
  }
 ],
 "metadata": {
  "kernelspec": {
   "display_name": "Python 2",
   "language": "python",
   "name": "python2"
  },
  "language_info": {
   "codemirror_mode": {
    "name": "ipython",
    "version": 2
   },
   "file_extension": ".py",
   "mimetype": "text/x-python",
   "name": "python",
   "nbconvert_exporter": "python",
   "pygments_lexer": "ipython2",
   "version": "2.7.6"
  }
 },
 "nbformat": 4,
 "nbformat_minor": 0
}
